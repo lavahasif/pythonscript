{
 "cells": [
  {
   "cell_type": "code",
   "execution_count": null,
   "metadata": {},
   "outputs": [],
   "source": [
    "import cv2\n",
    "import numpy as np\n",
    "import mss\n",
    "screenshot = np.array(mss.mss().grab(mss.mss().monitors[1]))\n",
    "screenshot.save(\"E:\\\\xampp\\\\htdocs\\\\tadiya\\\\screenshot.png\")\n",
    "# with mss.mss() as sct:\n",
    "#     # Get a screenshot of the primary monitor\n",
    "#     screenshot = np.array(sct.grab(sct.monitors[1]))\n",
    "#     screenshot.save(\"screenshot.png\")\n",
    "#     # Load the image to search for\n",
    "#     icon = cv2.imread(\"C:\\\\Users\\\\hasif\\\\Desktop\\\\download.jpeg\", cv2.IMREAD_GRAYSCALE)\n",
    "\n",
    "#     # Check that the size of the icon is smaller than the screenshot\n",
    "#     if icon.shape[0] > screenshot.shape[0] or icon.shape[1] > screenshot.shape[1]:\n",
    "#         print(\"Error: The size of the icon is larger than the screenshot.\")\n",
    "#         quit()\n",
    "\n",
    "#     # Use cv2.matchTemplate to find the location of the icon in the screenshot\n",
    "#     result = cv2.matchTemplate(screenshot, icon, cv2.TM_CCOEFF_NORMED)\n",
    "#     _, max_val, _, max_loc = cv2.minMaxLoc(result)\n",
    "\n",
    "#     # Draw a rectangle around the found icon\n",
    "#     h, w = icon.shape\n",
    "#     left, top = max_loc\n",
    "#     right, bottom = left + w, top + h\n",
    "#     cv2.rectangle(screenshot, (left, top), (right, bottom), (0, 0, 255), 2)\n",
    "\n",
    "#     # Display the screenshot with the found icon highlighted\n",
    "#     cv2.imshow(\"screenshot\", screenshot)\n",
    "#     cv2.waitKey(0)\n"
   ]
  },
  {
   "cell_type": "code",
   "execution_count": null,
   "metadata": {
    "dotnet_interactive": {
     "language": "csharp"
    },
    "polyglot_notebook": {
     "kernelName": "csharp"
    }
   },
   "outputs": [],
   "source": [
    "from mss import mss\n",
    "\n",
    "with mss() as sct:\n",
    "   filename= sct.shot()\n",
    "   print(filename)"
   ]
  },
  {
   "cell_type": "code",
   "execution_count": null,
   "metadata": {
    "dotnet_interactive": {
     "language": "csharp"
    },
    "polyglot_notebook": {
     "kernelName": "csharp"
    }
   },
   "outputs": [],
   "source": [
    "import cv2\n",
    "import numpy\n",
    "\n",
    "import mss\n",
    "\n",
    "with mss.mss() as sct:\n",
    "    # Part of the screen to capture\n",
    "    monitor = {\"top\": 40, \"left\": 0, \"width\": 800, \"height\": 640}\n",
    "\n",
    "    while \"Screen capturing\":\n",
    "        last_time = 10\n",
    "\n",
    "        # Get raw pixels from the screen, save it to a Numpy array\n",
    "        img = numpy.array(sct.grab(monitor))\n",
    "\n",
    "        # Display the picture\n",
    "        cv2.imshow(\"OpenCV/Numpy normal\", img)\n",
    "\n",
    "        # Display the picture in grayscale\n",
    "        # cv2.imshow('OpenCV/Numpy grayscale',\n",
    "        #            cv2.cvtColor(img, cv2.COLOR_BGRA2GRAY))\n",
    "\n",
    "        print(f\"fps: {1 / (10 - last_time)}\")\n",
    "\n",
    "        # Press \"q\" to quit\n",
    "        if cv2.waitKey(25) & 0xFF == ord(\"q\"):\n",
    "            cv2.destroyAllWindows()\n",
    "            break"
   ]
  },
  {
   "cell_type": "code",
   "execution_count": null,
   "metadata": {
    "dotnet_interactive": {
     "language": "csharp"
    },
    "polyglot_notebook": {
     "kernelName": "csharp"
    }
   },
   "outputs": [],
   "source": [
    "# %pdb\n",
    "\n",
    "import cv2\n",
    "import numpy as np\n",
    "\n",
    "# Load the image\n",
    "img = cv2.imread(\"monitor-1.png\")\n",
    "\n",
    "# Convert the image to grayscale\n",
    "gray = cv2.cvtColor(img, cv2.COLOR_BGR2GRAY)\n",
    "\n",
    "# Apply thresholding to obtain a binary image\n",
    "_, thresh = cv2.threshold(gray, 128, 255, cv2.THRESH_BINARY_INV)\n",
    "\n",
    "# Find contours in the binary image\n",
    "contours, *_ = cv2.findContours(thresh, cv2.RETR_EXTERNAL, cv2.CHAIN_APPROX_SIMPLE)\n",
    "\n",
    "\n",
    "# Filter the contours to keep only those that correspond to letters\n",
    "letters = []\n",
    "for contour in contours:\n",
    "    x, y, w, h = cv2.boundingRect(contour)\n",
    "    aspect_ratio = w / h\n",
    "    if w >= 15 and h >= 15 and 0.1 <= aspect_ratio <= 0.9:\n",
    "        letters.append((x, y, w, h))\n",
    "\n",
    "# Draw rectangles around the filtered contours\n",
    "for letter in letters:\n",
    "    x, y, w, h = letter\n",
    "    cv2.rectangle(img, (x, y), (x + w, y + h), (0, 255, 0), 2)\n",
    "\n",
    "# Save the result to an image file\n",
    "cv2.imwrite(\"result.jpg\", img)\n",
    "\n",
    "\n"
   ]
  },
  {
   "cell_type": "code",
   "execution_count": null,
   "metadata": {
    "dotnet_interactive": {
     "language": "csharp"
    },
    "polyglot_notebook": {
     "kernelName": "csharp"
    }
   },
   "outputs": [],
   "source": [
    "import cv2\n",
    "import PIL\n",
    "\n",
    "method = cv2.TM_SQDIFF_NORMED\n",
    "import pyautogui\n",
    "\n",
    "screenshot = pyautogui.screenshot()\n",
    "screenshot.save(\"screenshot.png\")\n",
    "\n",
    "# Read the images from the file\n",
    "small_image = cv2.imread('small.png')\n",
    "large_image = cv2.imread('screenshot.png')\n",
    "\n",
    "result = cv2.matchTemplate(small_image, large_image, method)\n",
    "\n",
    "# We want the minimum squared difference\n",
    "mn,_,mnLoc,_ = cv2.minMaxLoc(result)\n",
    "\n",
    "# Draw the rectangle:\n",
    "# Extract the coordinates of our best match\n",
    "MPx,MPy = mnLoc\n",
    "pyautogui.moveTo(MPx, MPy, duration=.5)\n",
    "pyautogui.click(MPx, MPy, duration=.5)\n",
    "print (MPx)\n",
    "print (MPy)\n",
    "print (mn)\n",
    "\n",
    "# Step 2: Get the size of the template. This is the same size as the match.\n",
    "trows,tcols = small_image.shape[:2]\n",
    "\n",
    "# Step 3: Draw the rectangle on large_image\n",
    "cv2.rectangle(large_image, (MPx,MPy),(MPx+tcols,MPy+trows),(0,0,255),2)\n",
    "\n",
    "# Display the original image with the rectangle around the match.\n",
    "# cv2.imshow('output',large_image)\n",
    "\n",
    "\n",
    "# The image is only displayed if we call this\n",
    "cv2.waitKey(0)"
   ]
  },
  {
   "cell_type": "code",
   "execution_count": null,
   "metadata": {
    "dotnet_interactive": {
     "language": "csharp"
    },
    "polyglot_notebook": {
     "kernelName": "csharp"
    }
   },
   "outputs": [],
   "source": [
    "pip install win32gui"
   ]
  },
  {
   "cell_type": "code",
   "execution_count": null,
   "metadata": {
    "dotnet_interactive": {
     "language": "csharp"
    },
    "polyglot_notebook": {
     "kernelName": "csharp"
    }
   },
   "outputs": [],
   "source": [
    "import pyautogui\n",
    "import webbrowser\n",
    "import win32com.client\n",
    "import win32con\n",
    "import win32gui\n",
    "\n",
    "\n",
    "def openWhatsapp():\n",
    "\n",
    "    # Get the handle of the window you want to resize\n",
    "    window = win32gui.FindWindow(None, \"WhatsApp\")\n",
    "\n",
    "    # Get the current position and size of the window\n",
    "    x, y, width, height = win32gui.GetWindowRect(window)\n",
    "\n",
    "    # Set the new width of the window\n",
    "    new_width = 800\n",
    "    new_height = 700\n",
    "    # Resize the window\n",
    "    win32gui.MoveWindow(window, 0, 0, new_width, new_height, True)\n",
    "    win32gui.ShowWindow(window, win32con.SW_RESTORE)\n",
    "    shell = win32com.client.Dispatch(\"WScript.Shell\")\n",
    "    shell.SendKeys('%')\n",
    "    win32gui.SetForegroundWindow(window)\n",
    "    win32gui.SetActiveWindow(window)\n",
    "    HWND = window\n",
    "    win32gui.SetWindowPos(HWND, win32con.HWND_NOTOPMOST, 0, 0,\n",
    "                          0, 0, win32con.SWP_NOMOVE + win32con.SWP_NOSIZE)\n",
    "    win32gui.SetWindowPos(HWND, win32con.HWND_TOPMOST, 0, 0,\n",
    "                          0, 0, win32con.SWP_NOMOVE + win32con.SWP_NOSIZE)\n",
    "    win32gui.SetWindowPos(HWND, win32con.HWND_NOTOPMOST, 0, 0, 0, 0,\n",
    "                          win32con.SWP_SHOWWINDOW + win32con.SWP_NOMOVE + win32con.SWP_NOSIZE)\n",
    "\n",
    "    webbrowser.open(\"whatsapp://send?text=poy&phone=919747200785\")\n",
    "openWhatsapp()"
   ]
  },
  {
   "cell_type": "code",
   "execution_count": 18,
   "metadata": {
    "dotnet_interactive": {
     "language": "csharp"
    },
    "polyglot_notebook": {
     "kernelName": "csharp"
    }
   },
   "outputs": [
    {
     "name": "stdout",
     "output_type": "stream",
     "text": [
      "1528\n",
      "67\n",
      "0.03061702661216259\n"
     ]
    }
   ],
   "source": [
    "import pyautogui\n",
    "import webbrowser\n",
    "import win32com.client\n",
    "import win32con\n",
    "import win32gui\n",
    "\n",
    "\n",
    "def openWhatsapp():\n",
    "\n",
    "    # Get the handle of the window you want to resize\n",
    "    window = win32gui.FindWindow(None, \"WhatsApp\")\n",
    "\n",
    "    # Get the current position and size of the window\n",
    "    x, y, width, height = win32gui.GetWindowRect(window)\n",
    "\n",
    "    # Set the new width of the window\n",
    "    new_width = 800\n",
    "    new_height = 700\n",
    "    # Resize the window\n",
    "    win32gui.MoveWindow(window, 0, 0, new_width, new_height, True)\n",
    "    win32gui.ShowWindow(window, win32con.SW_RESTORE)\n",
    "    shell = win32com.client.Dispatch(\"WScript.Shell\")\n",
    "    shell.SendKeys('%')\n",
    "    win32gui.SetForegroundWindow(window)\n",
    "    win32gui.SetActiveWindow(window)\n",
    "    HWND = window\n",
    "    win32gui.SetWindowPos(HWND, win32con.HWND_NOTOPMOST, 0, 0,\n",
    "                          0, 0, win32con.SWP_NOMOVE + win32con.SWP_NOSIZE)\n",
    "    win32gui.SetWindowPos(HWND, win32con.HWND_TOPMOST, 0, 0,\n",
    "                          0, 0, win32con.SWP_NOMOVE + win32con.SWP_NOSIZE)\n",
    "    win32gui.SetWindowPos(HWND, win32con.HWND_NOTOPMOST, 0, 0, 0, 0,\n",
    "                          win32con.SWP_SHOWWINDOW + win32con.SWP_NOMOVE + win32con.SWP_NOSIZE)\n",
    "\n",
    "    webbrowser.open(\"whatsapp://send?text=poy&phone=919747200785\")\n",
    "\n",
    "\n",
    "def capturesendbutton():\n",
    "    import cv2\n",
    "    import PIL\n",
    "\n",
    "    method = cv2.TM_SQDIFF_NORMED\n",
    "    import pyautogui\n",
    "\n",
    "    screenshot = pyautogui.screenshot()\n",
    "    screenshot.save(\"screenshot.png\")\n",
    "\n",
    "    # Read the images from the file\n",
    "    small_image = cv2.imread('send.png')\n",
    "    large_image = cv2.imread('screenshot.png')\n",
    "\n",
    "    result = cv2.matchTemplate(small_image, large_image, method)\n",
    "\n",
    "    # We want the minimum squared difference\n",
    "    mn, _, mnLoc, _ = cv2.minMaxLoc(result)\n",
    "\n",
    "    # Draw the rectangle:\n",
    "    # Extract the coordinates of our best match\n",
    "    MPx, MPy = mnLoc\n",
    "    pyautogui.moveTo(MPx, MPy, duration=.1)\n",
    "    pyautogui.click(MPx, MPy, duration=0)\n",
    "    print(MPx)\n",
    "    print(MPy)\n",
    "    print(mn)\n",
    "\n",
    "    # Step 2: Get the size of the template. This is the same size as the match.\n",
    "    trows, tcols = small_image.shape[:2]\n",
    "\n",
    "    # Step 3: Draw the rectangle on large_image\n",
    "    cv2.rectangle(large_image, (MPx, MPy),\n",
    "                  (MPx+tcols, MPy+trows), (0, 0, 255), 2)\n",
    "\n",
    "    # Display the original image with the rectangle around the match.\n",
    "    # cv2.imshow('output',large_image)\n",
    "\n",
    "    # The image is only displayed if we call this\n",
    "    cv2.waitKey(0)\n",
    "\n",
    "import time\n",
    "openWhatsapp()\n",
    "time.sleep(1)\n",
    "capturesendbutton()"
   ]
  },
  {
   "cell_type": "code",
   "execution_count": 34,
   "metadata": {},
   "outputs": [
    {
     "name": "stdout",
     "output_type": "stream",
     "text": [
      "422\n",
      "434\n",
      "0.0\n",
      "652\n",
      "630\n",
      "0.0\n",
      "528\n",
      "497\n",
      "0.0021084826439619064\n",
      "723\n",
      "593\n",
      "0.0\n"
     ]
    }
   ],
   "source": [
    "#  send whatsapp file\n",
    "import io\n",
    "import time\n",
    "from PIL import Image\n",
    "import win32clipboard\n",
    "import pyautogui\n",
    "import webbrowser\n",
    "import win32com.client\n",
    "import win32con\n",
    "import win32gui\n",
    "\n",
    "\n",
    "def openWhatsapp():\n",
    "\n",
    "    # Get the handle of the window you want to resize\n",
    "    window = win32gui.FindWindow(None, \"WhatsApp\")\n",
    "\n",
    "    # Get the current position and size of the window\n",
    "    x, y, width, height = win32gui.GetWindowRect(window)\n",
    "\n",
    "    # Set the new width of the window\n",
    "    new_width = 800\n",
    "    new_height = 700\n",
    "    # Resize the window\n",
    "    win32gui.MoveWindow(window, 0, 0, new_width, new_height, True)\n",
    "    win32gui.ShowWindow(window, win32con.SW_RESTORE)\n",
    "    shell = win32com.client.Dispatch(\"WScript.Shell\")\n",
    "    shell.SendKeys('%')\n",
    "    win32gui.SetForegroundWindow(window)\n",
    "    win32gui.SetActiveWindow(window)\n",
    "    HWND = window\n",
    "    win32gui.SetWindowPos(HWND, win32con.HWND_NOTOPMOST, 0, 0,\n",
    "                          0, 0, win32con.SWP_NOMOVE + win32con.SWP_NOSIZE)\n",
    "    win32gui.SetWindowPos(HWND, win32con.HWND_TOPMOST, 0, 0,\n",
    "                          0, 0, win32con.SWP_NOMOVE + win32con.SWP_NOSIZE)\n",
    "    win32gui.SetWindowPos(HWND, win32con.HWND_NOTOPMOST, 0, 0, 0, 0,\n",
    "                          win32con.SWP_SHOWWINDOW + win32con.SWP_NOMOVE + win32con.SWP_NOSIZE)\n",
    "\n",
    "    webbrowser.open(\"whatsapp://send?text=.&phone=919747200785\")\n",
    "\n",
    "\n",
    "def capturesendbuttonfile(icons,x=0,y=0):\n",
    "    import cv2\n",
    "    import PIL\n",
    "\n",
    "    method = cv2.TM_SQDIFF_NORMED\n",
    "    import pyautogui\n",
    "\n",
    "    screenshot = pyautogui.screenshot()\n",
    "    screenshot.save(\"screenshot.png\")\n",
    "\n",
    "    # Read the images from the file\n",
    "    small_image = cv2.imread(icons)\n",
    "    large_image = cv2.imread('screenshot.png')\n",
    "\n",
    "    result = cv2.matchTemplate(small_image, large_image, method)\n",
    "\n",
    "    # We want the minimum squared difference\n",
    "    mn, _, mnLoc, _ = cv2.minMaxLoc(result)\n",
    "\n",
    "    # Draw the rectangle:\n",
    "    # Extract the coordinates of our best match\n",
    "    MPx, MPy = mnLoc\n",
    "    pyautogui.moveTo(MPx, MPy, duration=.1)\n",
    "    pyautogui.click(MPx+x, MPy+y, duration=0)\n",
    "    print(MPx)\n",
    "    print(MPy)\n",
    "    print(mn)\n",
    "\n",
    "    # Step 2: Get the size of the template. This is the same size as the match.\n",
    "    trows, tcols = small_image.shape[:2]\n",
    "\n",
    "    # Step 3: Draw the rectangle on large_image\n",
    "    cv2.rectangle(large_image, (MPx, MPy),\n",
    "                  (MPx+tcols, MPy+trows), (0, 0, 255), 2)\n",
    "\n",
    "    # Display the original image with the rectangle around the match.\n",
    "    # cv2.imshow('output',large_image)\n",
    "\n",
    "    # The image is only displayed if we call this\n",
    "    cv2.waitKey(0)\n",
    "\n",
    "\n",
    "def send_to_clipboard(clip_type, data):\n",
    "    win32clipboard.OpenClipboard()\n",
    "    win32clipboard.EmptyClipboard()\n",
    "    win32clipboard.SetClipboardData(clip_type, data)\n",
    "    win32clipboard.CloseClipboard()\n",
    "\n",
    "\n",
    "def sednfile():\n",
    "\n",
    "    import io\n",
    "    import win32clipboard\n",
    "    from PIL import Image\n",
    "\n",
    "    image = Image.open('screenshot.png')\n",
    "\n",
    "    output = io.BytesIO()\n",
    "    image.convert(\"RGB\").save(output, \"bmp\")\n",
    "    data = output.getvalue()[14:]\n",
    "    output.close()\n",
    "\n",
    "    send_to_clipboard(win32clipboard.CF_DIB, data)\n",
    "\n",
    "\n",
    "openWhatsapp()\n",
    "time.sleep(1)\n",
    "sednfile()\n",
    "# time.sleep(1)\n",
    "\n",
    "\n",
    "capturesendbuttonfile(\"ss.png\")\n",
    "time.sleep(1)\n",
    "# pyautogui.click(450, 450, duration=.1)\n",
    "# pyautogui.hotkey('ctrl', 'v')\n",
    "capturesendbuttonfile(\"bpf.png\")\n",
    "time.sleep(1)\n",
    "pyautogui.rightClick(650, 650, duration=0)\n",
    "# pyautogui.moveTo(650, 650, duration=0)\n",
    "capturesendbuttonfile(\"paste.png\",0,20)\n",
    "time.sleep(3)\n",
    "capturesendbuttonfile(\"sendf.png\")\n"
   ]
  },
  {
   "cell_type": "code",
   "execution_count": null,
   "metadata": {},
   "outputs": [],
   "source": []
  },
  {
   "cell_type": "code",
   "execution_count": null,
   "metadata": {},
   "outputs": [],
   "source": []
  },
  {
   "cell_type": "code",
   "execution_count": null,
   "metadata": {},
   "outputs": [],
   "source": []
  },
  {
   "cell_type": "code",
   "execution_count": null,
   "metadata": {},
   "outputs": [],
   "source": [
    "pyautogui.hotkey('ctrl', 'c')"
   ]
  },
  {
   "cell_type": "code",
   "execution_count": null,
   "metadata": {},
   "outputs": [],
   "source": []
  },
  {
   "cell_type": "code",
   "execution_count": null,
   "metadata": {},
   "outputs": [],
   "source": []
  },
  {
   "cell_type": "code",
   "execution_count": null,
   "metadata": {},
   "outputs": [],
   "source": []
  },
  {
   "cell_type": "code",
   "execution_count": null,
   "metadata": {},
   "outputs": [],
   "source": [
    "pyautogui.hotkey('ctrl', 'c')"
   ]
  },
  {
   "cell_type": "code",
   "execution_count": null,
   "metadata": {},
   "outputs": [],
   "source": []
  },
  {
   "cell_type": "code",
   "execution_count": null,
   "metadata": {},
   "outputs": [],
   "source": []
  },
  {
   "cell_type": "code",
   "execution_count": null,
   "metadata": {},
   "outputs": [],
   "source": []
  },
  {
   "cell_type": "code",
   "execution_count": null,
   "metadata": {},
   "outputs": [],
   "source": [
    "pyautogui.hotkey('ctrl', 'c')"
   ]
  },
  {
   "cell_type": "code",
   "execution_count": 16,
   "metadata": {},
   "outputs": [
    {
     "name": "stdout",
     "output_type": "stream",
     "text": [
      "1713\n",
      "12\n",
      "0.0020780637860298157\n",
      "1359\n",
      "144\n",
      "0.0\n",
      "1374\n",
      "221\n",
      "0.004206791985780001\n",
      "1607\n",
      "334\n",
      "0.003171792719513178\n"
     ]
    }
   ],
   "source": [
    "import io\n",
    "import time\n",
    "from PIL import Image\n",
    "import win32clipboard\n",
    "import pyautogui\n",
    "import webbrowser\n",
    "import win32com.client\n",
    "import win32con\n",
    "import win32gui\n",
    "import subprocess\n",
    "# anydesk login\n",
    "\n",
    "# import subprocess\n",
    "subprocess.Popen([\"C:\\Program Files (x86)\\AnyDesk\\AnyDesk.exe\"],stdout=subprocess.PIPE, stderr=subprocess.PIPE)\n",
    "\n",
    "# proc.communicate()\n",
    "time.sleep(1)\n",
    "def openapp():\n",
    "\n",
    "    # Get the handle of the window you want to resize\n",
    "    window = win32gui.FindWindow(None, \"Anydesk\")\n",
    "\n",
    "    # Get the current position and size of the window\n",
    "    x, y, width, height = win32gui.GetWindowRect(window)\n",
    "\n",
    "    # Set the new width of the window\n",
    "    new_width = 800\n",
    "    new_height = 700\n",
    "    # Resize the window\n",
    "    win32gui.MoveWindow(window, 0, 0, new_width, new_height, True)\n",
    "    win32gui.ShowWindow(window, win32con.SW_RESTORE)\n",
    "    shell = win32com.client.Dispatch(\"WScript.Shell\")\n",
    "    shell.SendKeys('%')\n",
    "    win32gui.SetForegroundWindow(window)\n",
    "    win32gui.SetActiveWindow(window)\n",
    "    HWND = window\n",
    "    win32gui.SetWindowPos(HWND, win32con.HWND_NOTOPMOST, 0, 0,\n",
    "                          0, 0, win32con.SWP_NOMOVE + win32con.SWP_NOSIZE)\n",
    "    win32gui.SetWindowPos(HWND, win32con.HWND_TOPMOST, 0, 0,\n",
    "                          0, 0, win32con.SWP_NOMOVE + win32con.SWP_NOSIZE)\n",
    "    win32gui.SetWindowPos(HWND, win32con.HWND_NOTOPMOST, 0, 0, 0, 0,\n",
    "                          win32con.SWP_SHOWWINDOW + win32con.SWP_NOMOVE + win32con.SWP_NOSIZE)\n",
    "def Clicklogin(icons,x=0,y=0):\n",
    "    import cv2\n",
    "    import PIL\n",
    "\n",
    "    method = cv2.TM_SQDIFF_NORMED\n",
    "    import pyautogui\n",
    "\n",
    "    screenshot = pyautogui.screenshot()\n",
    "    screenshot.save(\"screenshot.png\")\n",
    "\n",
    "    # Read the images from the file\n",
    "    small_image = cv2.imread(icons)\n",
    "    large_image = cv2.imread('screenshot.png')\n",
    "\n",
    "    result = cv2.matchTemplate(small_image, large_image, method)\n",
    "\n",
    "    # We want the minimum squared difference\n",
    "    mn, _, mnLoc, _ = cv2.minMaxLoc(result)\n",
    "\n",
    "    # Draw the rectangle:\n",
    "    # Extract the coordinates of our best match\n",
    "    MPx, MPy = mnLoc\n",
    "    pyautogui.moveTo(MPx, MPy, duration=.1)\n",
    "    pyautogui.click(MPx+x, MPy+y, duration=0)\n",
    "    print(MPx)\n",
    "    print(MPy)\n",
    "    print(mn)\n",
    "\n",
    "    # Step 2: Get the size of the template. This is the same size as the match.\n",
    "    trows, tcols = small_image.shape[:2]\n",
    "\n",
    "    # Step 3: Draw the rectangle on large_image\n",
    "    cv2.rectangle(large_image, (MPx, MPy),\n",
    "                  (MPx+tcols, MPy+trows), (0, 0, 255), 2)\n",
    "\n",
    "    # Display the original image with the rectangle around the match.\n",
    "    # cv2.imshow('output',large_image)\n",
    "\n",
    "    # The image is only displayed if we call this\n",
    "    cv2.waitKey(0)\n",
    "\n",
    "    \n",
    "openapp()\n",
    "Clicklogin('logs.png')\n",
    "time.sleep(1)\n",
    "Clicklogin('email.png',10,40)\n",
    "pyautogui.hotkey('ctrl', 'a')\n",
    "pyautogui.typewrite('lavahasif@gmail.com', interval=0.1)\n",
    "time.sleep(1)\n",
    "Clicklogin('passsword.png',10,40)\n",
    "pyautogui.typewrite('SherSoft', interval=0.1)\n",
    "time.sleep(1)\n",
    "Clicklogin('sign.png',0,0)\n"
   ]
  },
  {
   "cell_type": "code",
   "execution_count": 53,
   "metadata": {},
   "outputs": [],
   "source": [
    "pyautogui.hotkey('ctrl', 'c')"
   ]
  },
  {
   "cell_type": "code",
   "execution_count": null,
   "metadata": {
    "dotnet_interactive": {
     "language": "csharp"
    },
    "polyglot_notebook": {
     "kernelName": "csharp"
    }
   },
   "outputs": [],
   "source": [
    "import pyperclip\n",
    "path=\"E:\\\\xampp\\\\htdocs\\\\tadiya\\\\send.png\"\n",
    "# Open the file you want to copy\n",
    "# path=string.encode().decode(\"E:\\xampp\\htdocs\\tadiya\\send.png\")\n",
    "with open(path,\"rb\") as file:\n",
    "    # Read the contents of the file\n",
    "    contents = file.read()\n",
    "    pyperclip.copy(file)\n",
    "\n",
    "# Copy the contents of the file to the clipboard\n",
    "\n"
   ]
  },
  {
   "cell_type": "code",
   "execution_count": null,
   "metadata": {
    "dotnet_interactive": {
     "language": "csharp"
    },
    "polyglot_notebook": {
     "kernelName": "csharp"
    }
   },
   "outputs": [],
   "source": [
    "import pyperclip\n",
    "import base64\n",
    "path=\"E:\\\\xampp\\\\htdocs\\\\tadiya\\\\send.png\"\n",
    "# Open the PNG file\n",
    "with open(path, \"rb\") as f:\n",
    "    # Read the contents of the PNG file into a byte string\n",
    "    file_contents = f.read()\n",
    "\n",
    "# Encode the binary data as a base64 string\n",
    "base64_string = base64.b64encode(file_contents)\n",
    "\n",
    "# Copy the base64 string to the clipboard\n",
    "pyperclip.copy(\"send.png\")\n",
    "\n"
   ]
  },
  {
   "cell_type": "code",
   "execution_count": null,
   "metadata": {
    "dotnet_interactive": {
     "language": "csharp"
    },
    "polyglot_notebook": {
     "kernelName": "csharp"
    }
   },
   "outputs": [],
   "source": [
    "pip install pypiwin32\n"
   ]
  },
  {
   "cell_type": "code",
   "execution_count": null,
   "metadata": {
    "dotnet_interactive": {
     "language": "csharp"
    },
    "polyglot_notebook": {
     "kernelName": "csharp"
    }
   },
   "outputs": [],
   "source": [
    "import win32clipboard\"E:\\\\xampp\\\\htdocs\\\\tadiya\\\\send.png\"\n",
    "path=\n",
    "# Open the PNG file\n",
    "with open(path, \"rb\") as f:\n",
    "    # Read the contents of the PNG file into a byte string\n",
    "    file_contents = f.read()\n",
    "\n",
    "# Open the Windows clipboard\n",
    "win32clipboard.OpenClipboard()\n",
    "\n",
    "# Clear the current contents of the clipboard\n",
    "win32clipboard.EmptyClipboard()\n",
    "\n",
    "# Set the contents of the clipboard to the binary data\n",
    "win32clipboard.SetClipboardData(win32clipboard.CF_DIB, file_contents)\n",
    "\n",
    "# Close the Windows clipboard\n",
    "win32clipboard.CloseClipboard()\n"
   ]
  },
  {
   "cell_type": "code",
   "execution_count": null,
   "metadata": {
    "dotnet_interactive": {
     "language": "csharp"
    },
    "polyglot_notebook": {
     "kernelName": "csharp"
    }
   },
   "outputs": [],
   "source": [
    "import win32clipboard\n",
    "\n",
    "# Copy the file path to the clipboard\n",
    "file_path = \"E:\\\\xampp\\\\htdocs\\\\tadiya\\\\send.png\"\n",
    "win32clipboard.OpenClipboard()\n",
    "win32clipboard.EmptyClipboard()\n",
    "win32clipboard.SetClipboardData(win32clipboard.CF_DIB,file_path)\n",
    "win32clipboard.CloseClipboard()"
   ]
  },
  {
   "cell_type": "code",
   "execution_count": 28,
   "metadata": {
    "dotnet_interactive": {
     "language": "csharp"
    },
    "polyglot_notebook": {
     "kernelName": "csharp"
    }
   },
   "outputs": [
    {
     "ename": "TypeError",
     "evalue": "string argument expected, got 'bytes'",
     "output_type": "error",
     "traceback": [
      "\u001b[1;31m---------------------------------------------------------------------------\u001b[0m",
      "\u001b[1;31mTypeError\u001b[0m                                 Traceback (most recent call last)",
      "Cell \u001b[1;32mIn[28], line 16\u001b[0m\n\u001b[0;32m     13\u001b[0m image \u001b[39m=\u001b[39m Image\u001b[39m.\u001b[39mopen(filepath)\n\u001b[0;32m     15\u001b[0m output \u001b[39m=\u001b[39m io\u001b[39m.\u001b[39mStringIO()\n\u001b[1;32m---> 16\u001b[0m image\u001b[39m.\u001b[39;49mconvert(\u001b[39m\"\u001b[39;49m\u001b[39mRGB\u001b[39;49m\u001b[39m\"\u001b[39;49m)\u001b[39m.\u001b[39;49msave(output, \u001b[39m\"\u001b[39;49m\u001b[39mbmp\u001b[39;49m\u001b[39m\"\u001b[39;49m)\n\u001b[0;32m     17\u001b[0m data \u001b[39m=\u001b[39m output\u001b[39m.\u001b[39mgetvalue()[\u001b[39m14\u001b[39m:]\n\u001b[0;32m     18\u001b[0m output\u001b[39m.\u001b[39mclose()\n",
      "File \u001b[1;32mc:\\Users\\hasif\\AppData\\Local\\Programs\\Python\\Python39\\lib\\site-packages\\PIL\\Image.py:2431\u001b[0m, in \u001b[0;36mImage.save\u001b[1;34m(self, fp, format, **params)\u001b[0m\n\u001b[0;32m   2428\u001b[0m         fp \u001b[39m=\u001b[39m builtins\u001b[39m.\u001b[39mopen(filename, \u001b[39m\"\u001b[39m\u001b[39mw+b\u001b[39m\u001b[39m\"\u001b[39m)\n\u001b[0;32m   2430\u001b[0m \u001b[39mtry\u001b[39;00m:\n\u001b[1;32m-> 2431\u001b[0m     save_handler(\u001b[39mself\u001b[39;49m, fp, filename)\n\u001b[0;32m   2432\u001b[0m \u001b[39mexcept\u001b[39;00m \u001b[39mException\u001b[39;00m:\n\u001b[0;32m   2433\u001b[0m     \u001b[39mif\u001b[39;00m open_fp:\n",
      "File \u001b[1;32mc:\\Users\\hasif\\AppData\\Local\\Programs\\Python\\Python39\\lib\\site-packages\\PIL\\BmpImagePlugin.py:424\u001b[0m, in \u001b[0;36m_save\u001b[1;34m(im, fp, filename, bitmap_header)\u001b[0m\n\u001b[0;32m    422\u001b[0m         msg \u001b[39m=\u001b[39m \u001b[39m\"\u001b[39m\u001b[39mFile size is too large for the BMP format\u001b[39m\u001b[39m\"\u001b[39m\n\u001b[0;32m    423\u001b[0m         \u001b[39mraise\u001b[39;00m \u001b[39mValueError\u001b[39;00m(msg)\n\u001b[1;32m--> 424\u001b[0m     fp\u001b[39m.\u001b[39;49mwrite(\n\u001b[0;32m    425\u001b[0m         \u001b[39mb\u001b[39;49m\u001b[39m\"\u001b[39;49m\u001b[39mBM\u001b[39;49m\u001b[39m\"\u001b[39;49m  \u001b[39m# file type (magic)\u001b[39;49;00m\n\u001b[0;32m    426\u001b[0m         \u001b[39m+\u001b[39;49m o32(file_size)  \u001b[39m# file size\u001b[39;49;00m\n\u001b[0;32m    427\u001b[0m         \u001b[39m+\u001b[39;49m o32(\u001b[39m0\u001b[39;49m)  \u001b[39m# reserved\u001b[39;49;00m\n\u001b[0;32m    428\u001b[0m         \u001b[39m+\u001b[39;49m o32(offset)  \u001b[39m# image data offset\u001b[39;49;00m\n\u001b[0;32m    429\u001b[0m     )\n\u001b[0;32m    431\u001b[0m \u001b[39m# bitmap info header\u001b[39;00m\n\u001b[0;32m    432\u001b[0m fp\u001b[39m.\u001b[39mwrite(\n\u001b[0;32m    433\u001b[0m     o32(header)  \u001b[39m# info header size\u001b[39;00m\n\u001b[0;32m    434\u001b[0m     \u001b[39m+\u001b[39m o32(im\u001b[39m.\u001b[39msize[\u001b[39m0\u001b[39m])  \u001b[39m# width\u001b[39;00m\n\u001b[1;32m   (...)\u001b[0m\n\u001b[0;32m    443\u001b[0m     \u001b[39m+\u001b[39m o32(colors)  \u001b[39m# colors important\u001b[39;00m\n\u001b[0;32m    444\u001b[0m )\n",
      "\u001b[1;31mTypeError\u001b[0m: string argument expected, got 'bytes'"
     ]
    }
   ],
   "source": [
    "# from cStringIO import StringIO\n",
    "import io\n",
    "import win32clipboard\n",
    "from PIL import Image\n",
    "\n",
    "def send_to_clipboard(clip_type, data):\n",
    "    win32clipboard.OpenClipboard()\n",
    "    win32clipboard.EmptyClipboard()\n",
    "    win32clipboard.SetClipboardData(clip_type, data)\n",
    "    win32clipboard.CloseClipboard()\n",
    "\n",
    "filepath = \"E:\\\\xampp\\\\htdocs\\\\tadiya\\\\send.png\"\n",
    "image = Image.open(filepath)\n",
    "\n",
    "output = io.StringIO()\n",
    "image.convert(\"RGB\").save(output, \"bmp\")\n",
    "data = output.getvalue()[14:]\n",
    "output.close()\n",
    "\n",
    "send_to_clipboard(win32clipboard.CF_DIF, data)"
   ]
  },
  {
   "cell_type": "code",
   "execution_count": 37,
   "metadata": {
    "dotnet_interactive": {
     "language": "csharp"
    },
    "polyglot_notebook": {
     "kernelName": "csharp"
    }
   },
   "outputs": [],
   "source": [
    "import io\n",
    "import win32clipboard\n",
    "from PIL import Image\n",
    "\n",
    "def send_to_clipboard(clip_type, data):\n",
    "    win32clipboard.OpenClipboard()\n",
    "    win32clipboard.EmptyClipboard()\n",
    "    win32clipboard.SetClipboardData(clip_type, data)\n",
    "    win32clipboard.CloseClipboard()\n",
    "\n",
    "image = Image.open('screenshot.png')\n",
    "\n",
    "output = io.BytesIO()\n",
    "image.convert(\"RGB\").save(output, \"bmp\")\n",
    "data = output.getvalue()[14:]\n",
    "output.close()\n",
    "\n",
    "send_to_clipboard(win32clipboard.CF_DIB, data)"
   ]
  },
  {
   "cell_type": "code",
   "execution_count": null,
   "metadata": {
    "dotnet_interactive": {
     "language": "csharp"
    },
    "polyglot_notebook": {
     "kernelName": "csharp"
    }
   },
   "outputs": [],
   "source": [
    "import io\n",
    "import win32clipboard\n",
    "\n",
    "def send_to_clipboard(clip_type, data):\n",
    "    win32clipboard.OpenClipboard()\n",
    "    win32clipboard.EmptyClipboard()\n",
    "    win32clipboard.SetClipboardData(clip_type, data)\n",
    "    win32clipboard.CloseClipboard()\n",
    "\n",
    "with open(r'E:\\xampp\\htdocs\\tadiya\\Bill.pdf', 'rb') as f:\n",
    "    pdf_data = f.read()\n",
    "\n",
    "send_to_clipboard(win32clipboard.CF_HDROP, pdf_data)\n"
   ]
  },
  {
   "cell_type": "code",
   "execution_count": null,
   "metadata": {
    "dotnet_interactive": {
     "language": "csharp"
    },
    "polyglot_notebook": {
     "kernelName": "csharp"
    }
   },
   "outputs": [],
   "source": []
  },
  {
   "cell_type": "code",
   "execution_count": null,
   "metadata": {
    "dotnet_interactive": {
     "language": "csharp"
    },
    "polyglot_notebook": {
     "kernelName": "csharp"
    }
   },
   "outputs": [],
   "source": [
    "pip install pythonnet"
   ]
  },
  {
   "cell_type": "code",
   "execution_count": null,
   "metadata": {
    "dotnet_interactive": {
     "language": "csharp"
    },
    "polyglot_notebook": {
     "kernelName": "csharp"
    }
   },
   "outputs": [],
   "source": [
    "# import pythonnet\n",
    "import clr\n",
    "\n",
    "clr.AddReference(\"System.Windows\")\n",
    "from System.Windows import Clipboard\n",
    "\n",
    "# Access the Clipboard class\n",
    "clipboard_contents = Clipboard.GetText()\n",
    "print(clipboard_contents)\n"
   ]
  },
  {
   "cell_type": "code",
   "execution_count": null,
   "metadata": {
    "dotnet_interactive": {
     "language": "csharp"
    },
    "polyglot_notebook": {
     "kernelName": "csharp"
    }
   },
   "outputs": [],
   "source": [
    "pip install dotnet"
   ]
  },
  {
   "cell_type": "code",
   "execution_count": null,
   "metadata": {
    "dotnet_interactive": {
     "language": "csharp"
    },
    "polyglot_notebook": {
     "kernelName": "csharp"
    }
   },
   "outputs": [],
   "source": [
    "import dotnet.seamless\n",
    "import System\n",
    "import System.Windows \n",
    "from System.Windows import Clipboard\n",
    "from System.Collections.Generic import List\n",
    "\n",
    "lst = List[Int32]()\n",
    "\n",
    "lst.Add(1)\n",
    "lst.Add(2)\n",
    "lst.Add(3)\n",
    "\n",
    "lst.AddRange([4,5,6,7])\n",
    "\n",
    "lst.FindIndex(lambda x: x > 6)"
   ]
  },
  {
   "cell_type": "code",
   "execution_count": null,
   "metadata": {
    "dotnet_interactive": {
     "language": "csharp"
    },
    "polyglot_notebook": {
     "kernelName": "csharp"
    }
   },
   "outputs": [],
   "source": [
    "pip uninstall clr"
   ]
  },
  {
   "cell_type": "code",
   "execution_count": null,
   "metadata": {
    "dotnet_interactive": {
     "language": "csharp"
    },
    "polyglot_notebook": {
     "kernelName": "csharp"
    }
   },
   "outputs": [],
   "source": [
    "pip uninstall pythonnet "
   ]
  },
  {
   "cell_type": "code",
   "execution_count": null,
   "metadata": {
    "dotnet_interactive": {
     "language": "csharp"
    },
    "polyglot_notebook": {
     "kernelName": "csharp"
    }
   },
   "outputs": [],
   "source": [
    "pip list"
   ]
  },
  {
   "cell_type": "code",
   "execution_count": null,
   "metadata": {
    "dotnet_interactive": {
     "language": "csharp"
    },
    "polyglot_notebook": {
     "kernelName": "csharp"
    }
   },
   "outputs": [],
   "source": [
    "import win32clipboard\n",
    "\n",
    "def send_to_clipboard(clip_type, data):\n",
    "    win32clipboard.OpenClipboard()\n",
    "    win32clipboard.EmptyClipboard()\n",
    "    win32clipboard.SetClipboardData(clip_type, data)\n",
    "    win32clipboard.CloseClipboard()\n",
    "\n",
    "pdf_file_path = r'C:\\Users\\Username\\Documents\\document.pdf'\n",
    "send_to_clipboard(win32clipboard., pdf_file_path)\n"
   ]
  },
  {
   "cell_type": "code",
   "execution_count": null,
   "metadata": {
    "dotnet_interactive": {
     "language": "csharp"
    },
    "polyglot_notebook": {
     "kernelName": "csharp"
    }
   },
   "outputs": [],
   "source": [
    "pip install --upgrade pip"
   ]
  },
  {
   "cell_type": "code",
   "execution_count": null,
   "metadata": {
    "dotnet_interactive": {
     "language": "csharp"
    },
    "polyglot_notebook": {
     "kernelName": "csharp"
    }
   },
   "outputs": [],
   "source": [
    "from System import String\n",
    "from System.Collections import *"
   ]
  },
  {
   "cell_type": "code",
   "execution_count": null,
   "metadata": {
    "dotnet_interactive": {
     "language": "csharp"
    },
    "polyglot_notebook": {
     "kernelName": "csharp"
    }
   },
   "outputs": [],
   "source": [
    "import win32clipboard\n",
    "from PIL import Image\n",
    "buffer = io.BytesIO()\n",
    "im = Image.open(r\"E:\\xampp\\htdocs\\tadiya\\send.png\") \n",
    "im.save(fp=buffer, format='PNG')\n",
    "\n",
    "clipboard_format = win32clipboard.RegisterClipboardFormat('PNG')\n",
    "win32clipboard.OpenClipboard()\n",
    "win32clipboard.EmptyClipboard()\n",
    "win32clipboard.SetClipboardData(clipboard_format, buffer.getvalue())\n",
    "win32clipboard.CloseClipboard()\n",
    "\n",
    "buffer.close()"
   ]
  },
  {
   "cell_type": "code",
   "execution_count": null,
   "metadata": {
    "dotnet_interactive": {
     "language": "csharp"
    },
    "polyglot_notebook": {
     "kernelName": "csharp"
    }
   },
   "outputs": [],
   "source": [
    "pip install cStringIO"
   ]
  },
  {
   "cell_type": "code",
   "execution_count": null,
   "metadata": {
    "dotnet_interactive": {
     "language": "csharp"
    },
    "polyglot_notebook": {
     "kernelName": "csharp"
    }
   },
   "outputs": [],
   "source": [
    "pip install pyperclip"
   ]
  },
  {
   "cell_type": "code",
   "execution_count": null,
   "metadata": {
    "dotnet_interactive": {
     "language": "csharp"
    },
    "polyglot_notebook": {
     "kernelName": "csharp"
    }
   },
   "outputs": [],
   "source": [
    "pip install win32com.client"
   ]
  },
  {
   "cell_type": "code",
   "execution_count": null,
   "metadata": {
    "dotnet_interactive": {
     "language": "csharp"
    },
    "polyglot_notebook": {
     "kernelName": "csharp"
    }
   },
   "outputs": [],
   "source": [
    "pip install win32con"
   ]
  },
  {
   "cell_type": "code",
   "execution_count": null,
   "metadata": {
    "dotnet_interactive": {
     "language": "csharp"
    },
    "polyglot_notebook": {
     "kernelName": "csharp"
    }
   },
   "outputs": [],
   "source": [
    "import win32gui\n",
    "\n",
    "# Get the handle of the currently active window\n",
    "window = win32gui.GetForegroundWindow()\n",
    "\n",
    "# Get the title of the window\n",
    "title = win32gui.GetWindowText(window)\n",
    "\n",
    "print(\"The title of the active window is:\", title)\n"
   ]
  },
  {
   "cell_type": "code",
   "execution_count": null,
   "metadata": {
    "dotnet_interactive": {
     "language": "csharp"
    },
    "polyglot_notebook": {
     "kernelName": "csharp"
    }
   },
   "outputs": [],
   "source": [
    "\n",
    "import subprocess\n",
    "\n",
    "# Start a new process and run the \"ls\" command\n",
    "process = subprocess.Popen([\"ls\"], stdout=subprocess.PIPE, stderr=subprocess.PIPE)\n",
    "\n",
    "# Wait for the process to complete\n",
    "stdout, stderr = process.communicate()\n",
    "\n",
    "# Print the output of the command\n",
    "print(\"Standard output:\", stdout.decode())\n",
    "print(\"Standard error:\", stderr.decode())\n"
   ]
  },
  {
   "cell_type": "code",
   "execution_count": null,
   "metadata": {
    "dotnet_interactive": {
     "language": "csharp"
    },
    "polyglot_notebook": {
     "kernelName": "csharp"
    }
   },
   "outputs": [],
   "source": [
    "import subprocess\n",
    "\n",
    "# Start a new process and run the \"notepad.exe\" executable\n",
    "subprocess.Popen([\"whatsapp://send?text=hi&phone=917012438494\"])\n"
   ]
  },
  {
   "cell_type": "code",
   "execution_count": null,
   "metadata": {
    "dotnet_interactive": {
     "language": "csharp"
    },
    "polyglot_notebook": {
     "kernelName": "csharp"
    }
   },
   "outputs": [],
   "source": [
    "import webbrowser\n",
    "\n",
    "webbrowser.open(\"whatsapp://send?text=hi&phone=919747200785\")"
   ]
  },
  {
   "cell_type": "code",
   "execution_count": null,
   "metadata": {
    "dotnet_interactive": {
     "language": "csharp"
    },
    "polyglot_notebook": {
     "kernelName": "csharp"
    }
   },
   "outputs": [],
   "source": [
    "pip install webbrowser"
   ]
  },
  {
   "cell_type": "code",
   "execution_count": null,
   "metadata": {
    "dotnet_interactive": {
     "language": "csharp"
    },
    "polyglot_notebook": {
     "kernelName": "csharp"
    }
   },
   "outputs": [],
   "source": [
    "pip install subprocess"
   ]
  },
  {
   "cell_type": "code",
   "execution_count": null,
   "metadata": {
    "dotnet_interactive": {
     "language": "csharp"
    },
    "polyglot_notebook": {
     "kernelName": "csharp"
    }
   },
   "outputs": [],
   "source": [
    "import win32gui\n",
    "\n",
    "def enum_handler(hwnd, result):\n",
    "    \"\"\"Callback function for win32gui.EnumWindows\"\"\"\n",
    "    if win32gui.IsWindowVisible(hwnd) and win32gui.IsWindowEnabled(hwnd):\n",
    "        result.append((hwnd, win32gui.GetWindowText(hwnd)))\n",
    "\n",
    "def get_foreground_windows():\n",
    "    \"\"\"Get a list of all open windows in the foreground\"\"\"\n",
    "    result = []\n",
    "    win32gui.EnumWindows(enum_handler, result)\n",
    "    return result\n",
    "\n",
    "# Get a list of all open windows in the foreground\n",
    "foreground_windows = get_foreground_windows()\n",
    "\n",
    "# Print the titles of all open windows in the foreground\n",
    "for hwnd, title in foreground_windows:\n",
    "    print(\"Window handle:\", hwnd)\n",
    "    print(\"Window title:\", title)\n",
    "    print(\"---\")\n"
   ]
  },
  {
   "cell_type": "code",
   "execution_count": null,
   "metadata": {
    "dotnet_interactive": {
     "language": "csharp"
    },
    "polyglot_notebook": {
     "kernelName": "csharp"
    }
   },
   "outputs": [],
   "source": [
    "pip install Pillow"
   ]
  },
  {
   "cell_type": "code",
   "execution_count": null,
   "metadata": {
    "dotnet_interactive": {
     "language": "csharp"
    },
    "polyglot_notebook": {
     "kernelName": "csharp"
    }
   },
   "outputs": [],
   "source": [
    "pip install pyautogui"
   ]
  },
  {
   "cell_type": "code",
   "execution_count": null,
   "metadata": {
    "dotnet_interactive": {
     "language": "csharp"
    },
    "polyglot_notebook": {
     "kernelName": "csharp"
    }
   },
   "outputs": [],
   "source": [
    "pip install Pillow"
   ]
  },
  {
   "cell_type": "code",
   "execution_count": null,
   "metadata": {
    "dotnet_interactive": {
     "language": "csharp"
    },
    "polyglot_notebook": {
     "kernelName": "csharp"
    }
   },
   "outputs": [],
   "source": [
    "pip install opencv-python"
   ]
  },
  {
   "cell_type": "code",
   "execution_count": null,
   "metadata": {
    "dotnet_interactive": {
     "language": "csharp"
    },
    "polyglot_notebook": {
     "kernelName": "csharp"
    }
   },
   "outputs": [],
   "source": [
    "pip install mss"
   ]
  },
  {
   "cell_type": "code",
   "execution_count": null,
   "metadata": {
    "dotnet_interactive": {
     "language": "csharp"
    },
    "polyglot_notebook": {
     "kernelName": "csharp"
    }
   },
   "outputs": [],
   "source": [
    "pip install numpy"
   ]
  },
  {
   "cell_type": "code",
   "execution_count": null,
   "metadata": {
    "dotnet_interactive": {
     "language": "csharp"
    },
    "polyglot_notebook": {
     "kernelName": "csharp"
    }
   },
   "outputs": [],
   "source": [
    "import subprocess\n",
    "\n",
    "# Command to be executed in PowerShell\n",
    "command = \"$bmp = [System.Drawing.Bitmap]::FromFile('send.png');[System.Windows.Forms.Clipboard]::SetImage($bmp)\"\n",
    "\n",
    "# Executing the command\n",
    "result = subprocess.Popen([\"powershell.exe\", command], stdout=subprocess.PIPE)\n",
    "\n",
    "# Getting the output\n",
    "output = result.communicate()[0].decode(\"utf-8\")\n",
    "\n",
    "# Printing the output\n",
    "print(output)\n"
   ]
  },
  {
   "cell_type": "code",
   "execution_count": null,
   "metadata": {
    "dotnet_interactive": {
     "language": "csharp"
    },
    "polyglot_notebook": {
     "kernelName": "csharp"
    }
   },
   "outputs": [],
   "source": [
    "import subprocess\n",
    "\n",
    "# Command to be executed in PowerShell\n",
    "command = r\"[System.Windows.Forms.Clipboard]::SetFileDropList('E:\\\\xampp\\\\htdocs\\\\tadiya\\\\webpack.mix.js')\"\n",
    "\n",
    "# Executing the command\n",
    "result = subprocess.Popen([\"powershell.exe\", command], stdout=subprocess.PIPE)\n",
    "\n",
    "# # Getting the output\n",
    "# output = result.communicate()[0].decode(\"utf-8\")\n",
    "\n",
    "# # Printing the output\n",
    "# print(output)\n"
   ]
  },
  {
   "cell_type": "code",
   "execution_count": null,
   "metadata": {
    "dotnet_interactive": {
     "language": "csharp"
    },
    "polyglot_notebook": {
     "kernelName": "csharp"
    }
   },
   "outputs": [],
   "source": [
    "import subprocess\n",
    "import sys\n",
    "cmd=r'[System.Windows.Forms.Clipboard]::SetFileDropList(\"E:\\\\xampp\\\\htdocs\\\\tadiya\\\\webpack.mix.js\")'\n",
    "p = subprocess.Popen(['powershell.exe', cmd], stdout=sys.stdout)\n",
    " "
   ]
  },
  {
   "cell_type": "code",
   "execution_count": null,
   "metadata": {
    "dotnet_interactive": {
     "language": "csharp"
    },
    "polyglot_notebook": {
     "kernelName": "csharp"
    }
   },
   "outputs": [],
   "source": [
    "import subprocess\n",
    "\n",
    "\n",
    "command=r\"[System.Windows.Forms.Clipboard]::SetFileDropList('E:\\xampp\\htdocs\\tadiya\\server.php')\"\n",
    "\n",
    "result = subprocess.run(['powershell.exe ',command])\n",
    "\n",
    "print(result)\n"
   ]
  },
  {
   "cell_type": "code",
   "execution_count": 17,
   "metadata": {
    "dotnet_interactive": {
     "language": "csharp"
    },
    "polyglot_notebook": {
     "kernelName": "csharp"
    }
   },
   "outputs": [
    {
     "name": "stdout",
     "output_type": "stream",
     "text": [
      "b''\n",
      "b\"Unable to find type [System.Windows.Forms.Clipboard].\\r\\nAt line:1 char:1\\r\\n+ [System.Windows.Forms.Clipboard]::SetFileDropList('E:\\\\xampp\\\\htdocs\\\\ta ...\\r\\n+ ~~~~~~~~~~~~~~~~~~~~~~~~~~~~~~~~\\r\\n    + CategoryInfo          : InvalidOperation: (System.Windows.Forms.Clipboard:TypeName) [], RuntimeException\\r\\n    + FullyQualifiedErrorId : TypeNotFound\\r\\n \\r\\n\"\n"
     ]
    }
   ],
   "source": [
    "import subprocess\n",
    "\n",
    "command = r\"[System.Windows.Forms.Clipboard]::SetFileDropList('E:\\xampp\\htdocs\\tadiya\\webpack.mix.js')\"\n",
    "\n",
    "result = subprocess.Popen(\n",
    "    [\"powershell.exe\", command], stdout=subprocess.PIPE, stderr=subprocess.PIPE)\n",
    "stdout, stderr = result.communicate()\n",
    "print(stdout)\n",
    "print(stderr)\n"
   ]
  },
  {
   "cell_type": "code",
   "execution_count": null,
   "metadata": {
    "dotnet_interactive": {
     "language": "csharp"
    },
    "polyglot_notebook": {
     "kernelName": "csharp"
    }
   },
   "outputs": [],
   "source": [
    "import pyperclip\n",
    "from PIL import Image\n",
    "\n",
    "# Open the image file\n",
    "image = Image.open(\"send.png\")\n",
    "\n",
    "# Convert the image to a string\n",
    "image_string = pyperclip.ImageToClipboard(image)\n",
    "\n",
    "# Set the image to the clipboard\n",
    "pyperclip.copy(image_string)\n"
   ]
  },
  {
   "cell_type": "code",
   "execution_count": 2,
   "metadata": {
    "dotnet_interactive": {
     "language": "csharp"
    },
    "polyglot_notebook": {
     "kernelName": "csharp"
    }
   },
   "outputs": [
    {
     "name": "stdout",
     "output_type": "stream",
     "text": [
      "df"
     ]
    }
   ],
   "source": [
    "Console.Write(\"df\");"
   ]
  }
 ],
 "metadata": {
  "kernelspec": {
   "display_name": "Python 3",
   "language": "python",
   "name": "python3"
  },
  "language_info": {
   "codemirror_mode": {
    "name": "ipython",
    "version": 3
   },
   "file_extension": ".py",
   "mimetype": "text/x-python",
   "name": "python",
   "nbconvert_exporter": "python",
   "pygments_lexer": "ipython3",
   "version": "3.9.10"
  },
  "polyglot_notebook": {
   "kernelInfo": {
    "defaultKernelName": "csharp",
    "items": [
     {
      "aliases": [
       "c#",
       "C#"
      ],
      "languageName": "C#",
      "name": "csharp"
     },
     {
      "aliases": [],
      "languageName": "Mermaid",
      "name": "mermaid"
     },
     {
      "aliases": [
       "frontend"
      ],
      "languageName": null,
      "name": "vscode"
     }
    ]
   }
  },
  "vscode": {
   "interpreter": {
    "hash": "39ae85b3ee882a2d92377b475b3720bc294fe64b3d1e7ba3acbb372d6ccd0baa"
   }
  }
 },
 "nbformat": 4,
 "nbformat_minor": 2
}
